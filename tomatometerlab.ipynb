{
 "cells": [
  {
   "cell_type": "code",
   "execution_count": 2,
   "id": "52cfa4d8-99c0-447c-b350-677c895bff76",
   "metadata": {},
   "outputs": [],
   "source": [
    "from pyspark.sql import SparkSession\n",
    "import pyspark.sql.functions as F\n",
    "\n",
    "# Creating a SparkSession\n",
    "spark = SparkSession.builder.appName(\"Tomatometer\") \\\n",
    "                       .getOrCreate()"
   ]
  },
  {
   "cell_type": "code",
   "execution_count": 3,
   "id": "bf5c8b04-bcf0-456b-a1b4-6af19ac91306",
   "metadata": {},
   "outputs": [],
   "source": [
    "# Read a CSV file\n",
    "df = spark.read.csv('./data/rotten_tomatoes_movies.csv', header=True, inferSchema=True)"
   ]
  },
  {
   "cell_type": "code",
   "execution_count": 4,
   "id": "e8bf5a0e-5f7b-40ba-ba5e-ae1360926276",
   "metadata": {},
   "outputs": [
    {
     "name": "stdout",
     "output_type": "stream",
     "text": [
      "+--------------------+--------------------+-------------+-----------+------+--------------------+-------------------+--------------------+--------------+--------------------+----------------+--------------------+--------------------+---------+-----------------+--------+\n",
      "|                  id|               title|audienceScore|tomatoMeter|rating|      ratingContents|releaseDateTheaters|releaseDateStreaming|runtimeMinutes|               genre|originalLanguage|            director|              writer|boxOffice|      distributor|soundMix|\n",
      "+--------------------+--------------------+-------------+-----------+------+--------------------+-------------------+--------------------+--------------+--------------------+----------------+--------------------+--------------------+---------+-----------------+--------+\n",
      "|  space-zombie-bingo| Space Zombie Bingo!|           50|       NULL|  NULL|                NULL|               NULL|          2018-08-25|            75|Comedy, Horror, S...|         English|       George Ormrod|George Ormrod,Joh...|     NULL|             NULL|    NULL|\n",
      "|     the_green_grass|     The Green Grass|         NULL|       NULL|  NULL|                NULL|               NULL|          2020-02-11|           114|               Drama|         English|     Tiffany Edwards|     Tiffany Edwards|     NULL|             NULL|    NULL|\n",
      "|           love_lies|          Love, Lies|           43|       NULL|  NULL|                NULL|               NULL|                NULL|           120|               Drama|          Korean|Park Heung-Sik,He...|Ha Young-Joon,Jeo...|     NULL|             NULL|    NULL|\n",
      "|the_sore_losers_1997|         Sore Losers|           60|       NULL|  NULL|                NULL|               NULL|          2020-10-23|            90|Action, Mystery &...|         English|John Michael McCa...|John Michael McCa...|     NULL|             NULL|    NULL|\n",
      "|dinosaur_island_2002|     Dinosaur Island|           70|       NULL|  NULL|                NULL|               NULL|          2017-03-27|            80|Fantasy, Adventur...|         English|       Will Meugniot|            John Loy|     NULL|             NULL|    NULL|\n",
      "|         adrift_2018|              Adrift|           65|         69| PG-13|['Injury Images',...|         2018-06-01|          2018-08-21|           120|Adventure, Drama,...|         English|   Baltasar Kormákur|Aaron Kandell,Jor...|   $31.4M|        STX Films|    NULL|\n",
      "|malta-con-huevo-s...|      Scrambled Beer|           55|       NULL|  NULL|                NULL|               NULL|          2015-10-05|            88|              Comedy|         Spanish|Cristobal Valderrama|Cristobal Valderrama|     NULL|             NULL|    NULL|\n",
      "|    kakabakaba-ka-ba|Kakabakaba ka ba?...|           88|       NULL|  NULL|                NULL|               NULL|                NULL|          NULL|                NULL|            NULL|        Mike de Leon|                NULL|     NULL|             NULL|    NULL|\n",
      "|          sundowning|          Sundowning|         NULL|       NULL|  NULL|                NULL|               NULL|                NULL|           123|               Drama|         English|      Jim Comas Cole|                NULL|     NULL|             NULL|    NULL|\n",
      "|1035316-born_to_kill|        Born to Kill|           74|         83|  NULL|                NULL|         1947-04-30|          2016-05-23|            92|        Crime, Drama|         English|         Robert Wise|Eve Greene,Richar...|     NULL|             NULL|    NULL|\n",
      "|1015331-number_on...|Number One With a...|           19|       NULL|  NULL|                NULL|               NULL|          2012-03-13|           103|        Crime, Drama|         English|         Jack Smight|                NULL|     NULL|             NULL|    NULL|\n",
      "|  garden_murder_case|The Garden Murder...|         NULL|       NULL|  NULL|                NULL|               NULL|          2016-10-20|            61|  Mystery & thriller|         English|      Edwin L. Marin|                NULL|     NULL|             NULL|    NULL|\n",
      "|margarita_happy_hour|Margarita Happy Hour|         NULL|         76|  NULL|                NULL|         2002-03-22|                NULL|            98|               Drama|         English|        Ilya Chaiken|        Ilya Chaiken|   $11.5K|Passport Pictures|Surround|\n",
      "|  leap_of_faith_2019|Leap of Faith: Wi...|           86|         93|  NULL|                NULL|               NULL|          2020-11-19|           104|Documentary, Myst...|         English|Alexandre O. Phil...|Alexandre O. Phil...|     NULL|             NULL|    NULL|\n",
      "| shake-rattle-roll-3|Shake Rattle & Ro...|           89|       NULL|  NULL|                NULL|               NULL|          2019-01-04|           120|      Comedy, Horror|         Tagalog|Peque Gallaga,Lor...|                NULL|     NULL|             NULL|    NULL|\n",
      "|           daag_1973|           The Stain|           82|       NULL|  NULL|                NULL|               NULL|          2003-11-25|           146|               Drama|           Hindi|         Yash Chopra|Yash Chopra,Gulsh...|     NULL|             NULL|    NULL|\n",
      "|crown_vs_stevens_...|   Crown vs. Stevens|           60|       NULL|  NULL|                NULL|               NULL|                NULL|            66|Crime, Drama, Mys...|         English|      Michael Powell|      Brock Williams|     NULL|             NULL|    NULL|\n",
      "|         1221483-paa|                 Paa|           67|         50|  NULL|                NULL|         2009-12-04|                NULL|           133|               Drama|           Hindi|            R. Balki|            R. Balki|  $199.2K|     Big Pictures|    NULL|\n",
      "|f9ab9165-598c-3ac...|A Tale of Love an...|         NULL|       NULL|  NULL|                NULL|               NULL|                NULL|           103|               Drama| French (France)|        Leyla Bouzid|        Leyla Bouzid|     NULL|             NULL|    NULL|\n",
      "|  the_last_gentleman|  The Last Gentleman|         NULL|       NULL|  NULL|                NULL|               NULL|                NULL|            80|              Comedy|         English|     Sidney Lanfield|                NULL|     NULL|             NULL|    NULL|\n",
      "+--------------------+--------------------+-------------+-----------+------+--------------------+-------------------+--------------------+--------------+--------------------+----------------+--------------------+--------------------+---------+-----------------+--------+\n",
      "only showing top 20 rows\n",
      "\n"
     ]
    }
   ],
   "source": [
    "df.show()"
   ]
  },
  {
   "cell_type": "markdown",
   "id": "0b5a8bc4-7be6-48c1-b9b0-ff115018a33e",
   "metadata": {},
   "source": [
    "### Pyspark Steps"
   ]
  },
  {
   "cell_type": "markdown",
   "id": "a0a5c080-d98b-4656-a86b-072eaedae628",
   "metadata": {},
   "source": [
    "#### Cleaning"
   ]
  },
  {
   "cell_type": "code",
   "execution_count": 5,
   "id": "8be45107-24aa-4121-8baa-2a26ab7ce753",
   "metadata": {},
   "outputs": [
    {
     "name": "stdout",
     "output_type": "stream",
     "text": [
      "70010\n"
     ]
    }
   ],
   "source": [
    "# check missing valiues in audienceScore\n",
    "audience_score_nulls = df.filter(df['audienceScore'].isNull()).count()\n",
    "print(audience_score_nulls)"
   ]
  },
  {
   "cell_type": "code",
   "execution_count": 6,
   "id": "51298e59-39f1-4566-a7b9-e364ff035d40",
   "metadata": {},
   "outputs": [
    {
     "name": "stdout",
     "output_type": "stream",
     "text": [
      "109381\n"
     ]
    }
   ],
   "source": [
    "# check missing valiues in tomatometer\n",
    "tomato_meter_nulls = df.filter(df['tomatoMeter'].isNull()).count()\n",
    "print(tomato_meter_nulls)"
   ]
  },
  {
   "cell_type": "code",
   "execution_count": 7,
   "id": "493d931b-e483-43e7-a8ed-4ef4820b5991",
   "metadata": {},
   "outputs": [
    {
     "name": "stdout",
     "output_type": "stream",
     "text": [
      "112485\n"
     ]
    }
   ],
   "source": [
    "# Check for missing values in releaseDateTheaters\n",
    "release_date_nulls = df.filter(df['releaseDateTheaters'].isNull()).count()\n",
    "print(release_date_nulls)"
   ]
  },
  {
   "cell_type": "code",
   "execution_count": 8,
   "id": "6277fa00-6d28-46f1-a66d-0c6bbc144686",
   "metadata": {},
   "outputs": [],
   "source": [
    "# Drop rows nulls from previous columns\n",
    "df_cleaned = df.dropna(subset=['audienceScore', 'tomatoMeter', 'releaseDateTheaters'])"
   ]
  },
  {
   "cell_type": "code",
   "execution_count": 9,
   "id": "a52673d5-8813-415b-a7f1-3c97b7d6616f",
   "metadata": {},
   "outputs": [
    {
     "name": "stdout",
     "output_type": "stream",
     "text": [
      "0\n"
     ]
    }
   ],
   "source": [
    "audience_score_nulls = df_cleaned.filter(df['audienceScore'].isNull()).count()\n",
    "print(audience_score_nulls)\n",
    "# checking to make sure dropna worked"
   ]
  },
  {
   "cell_type": "markdown",
   "id": "195a3bb7-58df-4739-95d4-42538aa0e793",
   "metadata": {},
   "source": [
    "#### Processing "
   ]
  },
  {
   "cell_type": "code",
   "execution_count": 18,
   "id": "f2ed2e2e-f205-45d7-8c90-f61fa1cc91f7",
   "metadata": {},
   "outputs": [],
   "source": [
    "# Year: Create a year column by parsing the year from the releaseDateTheaters column."
   ]
  },
  {
   "cell_type": "code",
   "execution_count": 10,
   "id": "85534829-39ab-4a36-8339-ffe8fdc7d655",
   "metadata": {},
   "outputs": [
    {
     "name": "stdout",
     "output_type": "stream",
     "text": [
      "+--------------------+--------------------+-------------+-----------+------+--------------------+-------------------+--------------------+--------------+--------------------+--------------------+--------------------+--------------------+---------+--------------------+--------+\n",
      "|                  id|               title|audienceScore|tomatoMeter|rating|      ratingContents|releaseDateTheaters|releaseDateStreaming|runtimeMinutes|               genre|    originalLanguage|            director|              writer|boxOffice|         distributor|soundMix|\n",
      "+--------------------+--------------------+-------------+-----------+------+--------------------+-------------------+--------------------+--------------+--------------------+--------------------+--------------------+--------------------+---------+--------------------+--------+\n",
      "|         adrift_2018|              Adrift|           65|         69| PG-13|['Injury Images',...|         2018-06-01|          2018-08-21|           120|Adventure, Drama,...|             English|   Baltasar Kormákur|Aaron Kandell,Jor...|   $31.4M|           STX Films|    NULL|\n",
      "|1035316-born_to_kill|        Born to Kill|           74|         83|  NULL|                NULL|         1947-04-30|          2016-05-23|            92|        Crime, Drama|             English|         Robert Wise|Eve Greene,Richar...|     NULL|                NULL|    NULL|\n",
      "|         1221483-paa|                 Paa|           67|         50|  NULL|                NULL|         2009-12-04|                NULL|           133|               Drama|               Hindi|            R. Balki|            R. Balki|  $199.2K|        Big Pictures|    NULL|\n",
      "|sarah_palin_you_b...|Sarah Palin: You ...|           61|         32|  NULL|                NULL|         2011-09-30|          2017-03-08|            90|         Documentary|             English|Nick Broomfield,J...|                NULL|   $10.5K| Freestyle Releasing|    NULL|\n",
      "|a_state_of_mind_2005|     A State of Mind|           92|         89|  NULL|                NULL|         2005-08-10|          2007-06-11|            93|         Documentary|              Korean|       Daniel Gordon|                NULL|   $41.5K|       Kino Pictures|    NULL|\n",
      "|        gun_shy_2017|               Salty|           38|          0|     R|['Some Sexual Con...|         2017-09-08|          2017-11-07|            86|      Comedy, Action|English (United K...|          Simon West|Toby Davies,Mark ...|     NULL|         Saban Films|    NULL|\n",
      "|         johnny_cool|         Johnny Cool|           44|         50|  NULL|                NULL|         1963-10-02|          2011-06-27|           103|        Crime, Drama|             English|       William Asher|                NULL|     NULL|                NULL|    NULL|\n",
      "|        race_the_sun|        Race the Sun|           41|         22|  NULL|                NULL|         1996-03-22|          2002-04-30|            99|               Drama|             English| Charles T. Kanganis|                NULL|    $1.7M|                NULL|Surround|\n",
      "| paul_blart_mall_cop|Paul Blart: Mall Cop|           43|         34|    PG|['Mild Crude Humo...|         2009-01-16|          2009-05-19|            91|              Comedy|             English|          Steve Carr|Kevin James,Nick ...|  $146.3M|Sony Pictures Ent...|    NULL|\n",
      "|not_without_my_da...|Not Without My Da...|           71|         53|  NULL|                NULL|         1991-01-11|          2001-10-02|           110|               Drama|             English|       Brian Gilbert|Betty Mahmoody,Wi...|   $14.0M|                NULL|Surround|\n",
      "+--------------------+--------------------+-------------+-----------+------+--------------------+-------------------+--------------------+--------------+--------------------+--------------------+--------------------+--------------------+---------+--------------------+--------+\n",
      "only showing top 10 rows\n",
      "\n"
     ]
    }
   ],
   "source": [
    "df_cleaned.show(10)"
   ]
  },
  {
   "cell_type": "code",
   "execution_count": 11,
   "id": "fa096eec-44ff-41df-a153-dd6004a9fe10",
   "metadata": {},
   "outputs": [
    {
     "name": "stdout",
     "output_type": "stream",
     "text": [
      "+--------------------+--------------------+-------------+-----------+------+--------------------+-------------------+--------------------+--------------+--------------------+----------------+--------------------+--------------------+---------+-------------------+--------+----+\n",
      "|                  id|               title|audienceScore|tomatoMeter|rating|      ratingContents|releaseDateTheaters|releaseDateStreaming|runtimeMinutes|               genre|originalLanguage|            director|              writer|boxOffice|        distributor|soundMix|year|\n",
      "+--------------------+--------------------+-------------+-----------+------+--------------------+-------------------+--------------------+--------------+--------------------+----------------+--------------------+--------------------+---------+-------------------+--------+----+\n",
      "|         adrift_2018|              Adrift|           65|         69| PG-13|['Injury Images',...|         2018-06-01|          2018-08-21|           120|Adventure, Drama,...|         English|   Baltasar Kormákur|Aaron Kandell,Jor...|   $31.4M|          STX Films|    NULL|2018|\n",
      "|1035316-born_to_kill|        Born to Kill|           74|         83|  NULL|                NULL|         1947-04-30|          2016-05-23|            92|        Crime, Drama|         English|         Robert Wise|Eve Greene,Richar...|     NULL|               NULL|    NULL|1947|\n",
      "|         1221483-paa|                 Paa|           67|         50|  NULL|                NULL|         2009-12-04|                NULL|           133|               Drama|           Hindi|            R. Balki|            R. Balki|  $199.2K|       Big Pictures|    NULL|2009|\n",
      "|sarah_palin_you_b...|Sarah Palin: You ...|           61|         32|  NULL|                NULL|         2011-09-30|          2017-03-08|            90|         Documentary|         English|Nick Broomfield,J...|                NULL|   $10.5K|Freestyle Releasing|    NULL|2011|\n",
      "|a_state_of_mind_2005|     A State of Mind|           92|         89|  NULL|                NULL|         2005-08-10|          2007-06-11|            93|         Documentary|          Korean|       Daniel Gordon|                NULL|   $41.5K|      Kino Pictures|    NULL|2005|\n",
      "+--------------------+--------------------+-------------+-----------+------+--------------------+-------------------+--------------------+--------------+--------------------+----------------+--------------------+--------------------+---------+-------------------+--------+----+\n",
      "only showing top 5 rows\n",
      "\n"
     ]
    }
   ],
   "source": [
    "df = df_cleaned.withColumn('year', F.year(F.col('releaseDateTheaters')))\n",
    "df.show(5)"
   ]
  },
  {
   "cell_type": "code",
   "execution_count": 15,
   "id": "2bb15bd8-55bb-4ab6-a711-6e98ddafac9b",
   "metadata": {},
   "outputs": [
    {
     "name": "stdout",
     "output_type": "stream",
     "text": [
      "+--------------------+--------------------+-------------+-----------+------+--------------------+-------------------+--------------------+--------------+--------------------+--------------------+--------------------+--------------------+---------+--------------------+-----------+----+\n",
      "|                  id|               title|audienceScore|tomatoMeter|rating|      ratingContents|releaseDateTheaters|releaseDateStreaming|runtimeMinutes|               genre|    originalLanguage|            director|              writer|boxOffice|         distributor|   soundMix|year|\n",
      "+--------------------+--------------------+-------------+-----------+------+--------------------+-------------------+--------------------+--------------+--------------------+--------------------+--------------------+--------------------+---------+--------------------+-----------+----+\n",
      "|     the_human_trial|     The Human Trial|           99|        100|  NULL|                NULL|         2022-06-24|          2022-06-24|            91|         Documentary|             English|Lisa Hepner,Guy M...|         Lisa Hepner|     NULL|          Abramorama|       NULL|2022|\n",
      "|             mclibel|             McLibel|           69|        100|  NULL|                NULL|         2005-04-09|          2010-09-14|            84|         Documentary|English (United K...|    Franny Armstrong|                NULL|    $4.3K|                NULL|       NULL|2005|\n",
      "|   the_monkey_king_2|   The Monkey King 2|           52|        100|  NULL|                NULL|         2016-02-05|          2017-01-03|           119|Fantasy, Adventur...|             Chinese|      Pou-Soi Cheang|                NULL|  $709.6K|China Lion Film D...|Dolby Atmos|2016|\n",
      "|       roll_red_roll|       Roll Red Roll|           75|        100|  NULL|                NULL|         2019-03-22|          2019-08-08|            80|Documentary, Crim...|             English|   Nancy Schwartzman|                NULL|     NULL|      Together Films|       NULL|2019|\n",
      "|  singin_in_the_rain| Singin' in the Rain|           95|        100|  NULL|                NULL|         1952-04-10|          2002-09-24|           102|     Musical, Comedy|             English|Stanley Donen,Gen...|Betty Comden,Adol...|   $23.9K| Metro-Goldwyn-Mayer|       Mono|1952|\n",
      "|   skid_row_marathon|   Skid Row Marathon|          100|        100|  NULL|                NULL|         2019-03-22|          2019-11-17|            85|         Documentary|             English|          Mark Hayes|          Mark Hayes|     NULL|          OWLS Media|       NULL|2019|\n",
      "|         blue_dahlia|     The Blue Dahlia|           71|        100|  NULL|                NULL|         1946-04-18|          2014-11-04|            96|        Crime, Drama|             English|     George Marshall|    Raymond Chandler|     NULL|  Paramount Pictures|       Mono|1946|\n",
      "|letter_from_masanjia|Letter From Masanjia|           89|        100|  NULL|                NULL|         2018-09-14|          2018-12-04|            75|         Documentary|             English|            Leon Lee|Caylan Ford,Leon Lee|   $23.5K|        Ammo Content|       NULL|2018|\n",
      "|1197811-ballet_shoes|        Ballet Shoes|           66|        100|    PG|         ['Smoking']|         2008-08-26|          2008-09-02|            90|               Drama|             English|   Sandra Goldbacher|        Heidi Thomas|     NULL|Screenvision, Koc...|       NULL|2008|\n",
      "|    a_foreign_affair|    A Foreign Affair|           78|        100|  NULL|                NULL|         1948-08-20|          2017-05-03|           116|     Musical, Comedy|             English|        Billy Wilder|Charles Brackett,...|     NULL|  Paramount Pictures|       Mono|1948|\n",
      "|this_much_i_know_...|This Much I Know ...|           96|        100|  NULL|                NULL|         2022-05-11|                NULL|           105|  Documentary, Music|English (United K...|      Andrew Dominik|                NULL|     NULL| Trafalgar Releasing|       NULL|2022|\n",
      "|all_in_the_fight_...|All In: The Fight...|           67|        100|  NULL|                NULL|         2020-09-09|          2020-09-18|           102|         Documentary|             English|Lisa Cortes,Liz G...|     Jack Youngelson|     NULL|      Amazon Studios|       NULL|2020|\n",
      "|    say_your_prayers|    Say Your Prayers|           47|        100|  NULL|                NULL|         2021-04-02|          2021-04-02|            84|              Comedy|English (United K...|       Harry Michell|Jamie Fraser,Harr...|     NULL|   Gravitas Ventures|       NULL|2021|\n",
      "| lumiere_and_company| Lumiere and Company|           78|        100|  NULL|                NULL|         1996-03-29|                NULL|            88|         Documentary|     French (Canada)|Merzak Allouache,...|                NULL|     NULL|          Fox Lorber|       Mono|1996|\n",
      "|the_sunshine_make...| The Sunshine Makers|           74|        100|  NULL|                NULL|         2017-01-20|          2017-02-02|            90|         Documentary|English (United K...|Cosmo Feilding-Me...|Cosmo Feilding-Me...|    $9.9K|            FilmRise|       NULL|2017|\n",
      "|         gloria_2012|              Gloria|           65|        100|     R|['Graphic Nudity'...|         2014-01-17|          2014-04-29|           109|      Drama, Romance|             Spanish|     Sebastián Lelio|Sebastián Lelio,G...|    $2.1M|Roadside Attractions|       NULL|2014|\n",
      "|         at_the_fork|         At the Fork|           75|        100|  NULL|                NULL|         2016-07-13|          2016-12-29|            89|         Documentary|             English|         John Papola|Cristina Colissim...|     NULL|      Emergent Order|       NULL|2016|\n",
      "|  breaking_a_monster|  Breaking a Monster|           58|        100|  NULL|                NULL|         2016-06-24|          2016-10-11|            93|  Documentary, Music|             English|          Luke Meyer|Luke Meyer,Brad T...|    $4.2K|          Abramorama|       NULL|2016|\n",
      "|the_waiting_room_...|    The Waiting Room|           76|        100|  NULL|                NULL|         2012-09-26|          2013-10-22|            81|         Documentary|             English|         Peter Nicks|                NULL|  $244.1K|International Fil...|       NULL|2012|\n",
      "|             coup_53|             Coup 53|           83|        100|  NULL|                NULL|         2020-08-21|                NULL|           118|         Documentary|             English|       Taghi Amirani|       Taghi Amirani|     NULL|       Amirani Media|       NULL|2020|\n",
      "+--------------------+--------------------+-------------+-----------+------+--------------------+-------------------+--------------------+--------------+--------------------+--------------------+--------------------+--------------------+---------+--------------------+-----------+----+\n",
      "only showing top 20 rows\n",
      "\n"
     ]
    }
   ],
   "source": [
    "# Top Movies: Find the top 5000 movies based on Tomatometer score using functions like orderBy and limit.\n",
    "top_movies_df = df.orderBy(F.col('tomatoMeter').desc()).limit(5000)\n",
    "top_movies_df.show()"
   ]
  },
  {
   "cell_type": "code",
   "execution_count": 14,
   "id": "7ef96d7c-320d-4280-bcca-3b384be9accf",
   "metadata": {},
   "outputs": [],
   "source": [
    "# save as parquet\n",
    "top_movies_df.write.parquet('top_movies_df.parquet')"
   ]
  },
  {
   "cell_type": "code",
   "execution_count": null,
   "id": "b12d4bcd-ccae-4df4-8aee-9e369e8df8da",
   "metadata": {},
   "outputs": [],
   "source": []
  }
 ],
 "metadata": {
  "kernelspec": {
   "display_name": "Python 3 (ipykernel)",
   "language": "python",
   "name": "python3"
  },
  "language_info": {
   "codemirror_mode": {
    "name": "ipython",
    "version": 3
   },
   "file_extension": ".py",
   "mimetype": "text/x-python",
   "name": "python",
   "nbconvert_exporter": "python",
   "pygments_lexer": "ipython3",
   "version": "3.11.7"
  }
 },
 "nbformat": 4,
 "nbformat_minor": 5
}
